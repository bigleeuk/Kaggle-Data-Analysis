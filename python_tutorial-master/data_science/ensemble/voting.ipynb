{
 "cells": [
  {
   "cell_type": "markdown",
   "metadata": {},
   "source": [
    "# Voting\n",
    "Based on the idea that classifiers can complement each other,  \n",
    "Aggregating individual classifier's prediction to make better prediction."
   ]
  },
  {
   "cell_type": "code",
   "execution_count": 19,
   "metadata": {},
   "outputs": [],
   "source": [
    "from sklearn import datasets\n",
    "from sklearn import tree\n",
    "from sklearn.neighbors import KNeighborsClassifier\n",
    "from sklearn.svm import SVC\n",
    "from sklearn.ensemble import VotingClassifier\n",
    "from sklearn.model_selection import train_test_split\n",
    "from sklearn.metrics import accuracy_score"
   ]
  },
  {
   "cell_type": "markdown",
   "metadata": {},
   "source": [
    "# load mnist dataset"
   ]
  },
  {
   "cell_type": "code",
   "execution_count": 20,
   "metadata": {},
   "outputs": [],
   "source": [
    "mnist = datasets.load_digits()\n",
    "features, labels = mnist.data, mnist.target\n",
    "X_train,X_test,y_train,y_test=train_test_split(features,labels,test_size=0.2)"
   ]
  },
  {
   "cell_type": "markdown",
   "metadata": {},
   "source": [
    "# single classifiers accuracy on mnist\n",
    "build decision tree, knn, svm and check accuracy on MNIST data."
   ]
  },
  {
   "cell_type": "code",
   "execution_count": 21,
   "metadata": {},
   "outputs": [],
   "source": [
    "dtree = tree.DecisionTreeClassifier(\n",
    "    criterion=\"gini\", max_depth=8, max_features=32,random_state=35)\n",
    "\n",
    "dtree = dtree.fit(X_train, y_train)\n",
    "dtree_predicted = dtree.predict(X_test)\n",
    "\n",
    "knn = KNeighborsClassifier(n_neighbors=299).fit(X_train, y_train)\n",
    "knn_predicted = knn.predict(X_test)\n",
    "\n",
    "svm = SVC(C=0.1, gamma=0.003,\n",
    "          probability=True,random_state=35).fit(X_train, y_train)\n",
    "svm_predicted = svm.predict(X_test)"
   ]
  },
  {
   "cell_type": "code",
   "execution_count": 22,
   "metadata": {},
   "outputs": [
    {
     "name": "stdout",
     "output_type": "stream",
     "text": [
      "[accuarcy]\n",
      "d-tree:  0.7972222222222223\n",
      "knn   :  0.8416666666666667\n",
      "svm   :  0.85\n"
     ]
    }
   ],
   "source": [
    "print(\"[accuarcy]\")\n",
    "print(\"d-tree: \",accuracy_score(y_test, dtree_predicted))\n",
    "print(\"knn   : \",accuracy_score(y_test, knn_predicted))\n",
    "print(\"svm   : \",accuracy_score(y_test, svm_predicted))"
   ]
  },
  {
   "cell_type": "markdown",
   "metadata": {},
   "source": [
    "we can easily do soft voting or hard voting using sklearn's voting classifier    \n",
    "when you want to implement soft voting by scratch, you can use predict_proba just like below,  \n",
    "Below is the example of SVM's prediction (digit 0 to 9) on two MNIST data."
   ]
  },
  {
   "cell_type": "code",
   "execution_count": 23,
   "metadata": {},
   "outputs": [
    {
     "name": "stdout",
     "output_type": "stream",
     "text": [
      "[[9.95557918e-01 3.42018637e-04 4.57700824e-04 4.19160266e-04\n",
      "  4.21146304e-04 7.99436984e-04 4.11439277e-04 6.08753549e-04\n",
      "  4.33211441e-04 5.49214707e-04]\n",
      " [2.86586264e-03 4.17512273e-03 4.28013091e-03 4.14650212e-03\n",
      "  9.27814553e-01 2.24791840e-02 3.06764221e-03 9.50855980e-03\n",
      "  1.51437526e-02 6.51868962e-03]]\n"
     ]
    }
   ],
   "source": [
    "svm_proba = svm.predict_proba(X_test)\n",
    "print(svm_proba[0:2])"
   ]
  },
  {
   "cell_type": "markdown",
   "metadata": {},
   "source": [
    "# hard voting\n",
    "hard voting is just majority vote which collects each classifier's prediction and take the most voted prediction."
   ]
  },
  {
   "cell_type": "code",
   "execution_count": 24,
   "metadata": {},
   "outputs": [
    {
     "name": "stderr",
     "output_type": "stream",
     "text": [
      "/anaconda3/envs/wikiml/lib/python3.6/site-packages/sklearn/preprocessing/label.py:151: DeprecationWarning: The truth value of an empty array is ambiguous. Returning False, but in future this will result in an error. Use `array.size > 0` to check that an array is not empty.\n",
      "  if diff:\n"
     ]
    },
    {
     "data": {
      "text/plain": [
       "0.9083333333333333"
      ]
     },
     "execution_count": 24,
     "metadata": {},
     "output_type": "execute_result"
    }
   ],
   "source": [
    "voting_clf = VotingClassifier(estimators=[\n",
    "    ('decision_tree', dtree), ('knn', knn), ('svm', svm)], \n",
    "    weights=[1,1,1], voting='hard').fit(X_train, y_train)\n",
    "hard_voting_predicted = voting_clf.predict(X_test)\n",
    "accuracy_score(y_test, hard_voting_predicted)"
   ]
  },
  {
   "cell_type": "markdown",
   "metadata": {},
   "source": [
    "# soft voting\n",
    "soft voting takes each classifier's predict_proba and then sum up all probabilities to take the prediction has highest probabilities."
   ]
  },
  {
   "cell_type": "code",
   "execution_count": 25,
   "metadata": {},
   "outputs": [
    {
     "name": "stderr",
     "output_type": "stream",
     "text": [
      "/anaconda3/envs/wikiml/lib/python3.6/site-packages/sklearn/preprocessing/label.py:151: DeprecationWarning: The truth value of an empty array is ambiguous. Returning False, but in future this will result in an error. Use `array.size > 0` to check that an array is not empty.\n",
      "  if diff:\n"
     ]
    },
    {
     "data": {
      "text/plain": [
       "0.9138888888888889"
      ]
     },
     "execution_count": 25,
     "metadata": {},
     "output_type": "execute_result"
    }
   ],
   "source": [
    "voting_clf = VotingClassifier(estimators=[\n",
    "    ('decision_tree', dtree), ('knn', knn), ('svm', svm)], \n",
    "    weights=[1,1,1], voting='soft').fit(X_train, y_train)\n",
    "soft_voting_predicted = voting_clf.predict(X_test)\n",
    "accuracy_score(y_test, soft_voting_predicted)"
   ]
  },
  {
   "cell_type": "markdown",
   "metadata": {},
   "source": [
    "# Visualization\n",
    "we can visualize accuracy to check voting result is stabled or better than single model accuracy.  \n",
    "it is hard to say which voting is better, but we can confirm classifiers complement each other,  \n",
    "and voting result is better in this example."
   ]
  },
  {
   "cell_type": "code",
   "execution_count": 26,
   "metadata": {},
   "outputs": [
    {
     "data": {
      "image/png": "[encoded data removed]",
      "text/plain": [
       "<Figure size 432x288 with 1 Axes>"
      ]
     },
     "metadata": {
      "needs_background": "light"
     },
     "output_type": "display_data"
    }
   ],
   "source": [
    "import matplotlib.pyplot as plt\n",
    "import numpy as np\n",
    "%matplotlib inline\n",
    "\n",
    "x = np.arange(5)\n",
    "plt.bar(x, height= [accuracy_score(y_test, dtree_predicted),\n",
    "                    accuracy_score(y_test, knn_predicted),\n",
    "                    accuracy_score(y_test, svm_predicted),\n",
    "                    accuracy_score(y_test, hard_voting_predicted),\n",
    "                    accuracy_score(y_test, soft_voting_predicted)])\n",
    "plt.xticks(x, ['decision tree','knn','svm','hard voting','soft voting']);"
   ]
  },
  {
   "cell_type": "code",
   "execution_count": null,
   "metadata": {},
   "outputs": [],
   "source": []
  }
 ],
 "metadata": {
  "kernelspec": {
   "display_name": "Python 3",
   "language": "python",
   "name": "python3"
  },
  "language_info": {
   "codemirror_mode": {
    "name": "ipython",
    "version": 3
   },
   "file_extension": ".py",
   "mimetype": "text/x-python",
   "name": "python",
   "nbconvert_exporter": "python",
   "pygments_lexer": "ipython3",
   "version": "3.6.4"
  }
 },
 "nbformat": 4,
 "nbformat_minor": 2
}
