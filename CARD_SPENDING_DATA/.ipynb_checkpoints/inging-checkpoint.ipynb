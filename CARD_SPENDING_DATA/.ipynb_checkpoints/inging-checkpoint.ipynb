{
 "cells": [
  {
   "cell_type": "markdown",
   "metadata": {},
   "source": [
    "## Project Goal\n",
    "- 질병데이터(공공), 유동인구데이터(SK텔레콤), 카드매출데이터(신한카드), SNS데이터(와이즈넛), 유통데이터(GS리테일), 물류데이터(CJ올리브네트웍스) 등 다양한 데이터를 활용하여 감염병(코로나19, 메르스 등)으로 인한 소비/경제/행동 변화에 따른 사회적 영향 분석 및 예측 모델링을 통한 서비스 아이디어와 PoC(Proof Of Concept) 결과 제시"
   ]
  },
  {
   "cell_type": "code",
   "execution_count": 2,
   "metadata": {},
   "outputs": [],
   "source": [
    "import pandas as pd\n",
    "import numpy as np\n",
    "import datetime\n",
    "import matplotlib.pyplot as plt\n",
    "import seaborn as sns\n",
    "%matplotlib inline"
   ]
  },
  {
   "cell_type": "code",
   "execution_count": 3,
   "metadata": {},
   "outputs": [],
   "source": [
    "resident=pd.read_csv('../CARD_SPENDING_DATA/CARD_SPENDING_RESIDENT/CARD_SPENDING_RESIDENT.txt',delimiter='\\t',encoding='euc-kr')\n",
    "foreigner=pd.read_csv('../CARD_SPENDING_DATA/CARD_SPENDING_FOREIGNER/CARD_SPENDING_FOREIGNER.txt',delimiter='\\t',encoding='euc-kr')"
   ]
  },
  {
   "cell_type": "code",
   "execution_count": 4,
   "metadata": {},
   "outputs": [
    {
     "data": {
      "text/html": [
       "<div>\n",
       "<style scoped>\n",
       "    .dataframe tbody tr th:only-of-type {\n",
       "        vertical-align: middle;\n",
       "    }\n",
       "\n",
       "    .dataframe tbody tr th {\n",
       "        vertical-align: top;\n",
       "    }\n",
       "\n",
       "    .dataframe thead th {\n",
       "        text-align: right;\n",
       "    }\n",
       "</style>\n",
       "<table border=\"1\" class=\"dataframe\">\n",
       "  <thead>\n",
       "    <tr style=\"text-align: right;\">\n",
       "      <th></th>\n",
       "      <th>STD_DD</th>\n",
       "      <th>GU_CD</th>\n",
       "      <th>DONG_CD</th>\n",
       "      <th>MCT_CAT_CD</th>\n",
       "      <th>SEX_CD</th>\n",
       "      <th>AGE_CD</th>\n",
       "      <th>USE_CNT</th>\n",
       "      <th>USE_AMT</th>\n",
       "    </tr>\n",
       "  </thead>\n",
       "  <tbody>\n",
       "    <tr>\n",
       "      <th>0</th>\n",
       "      <td>20190201</td>\n",
       "      <td>110</td>\n",
       "      <td>517</td>\n",
       "      <td>10</td>\n",
       "      <td>F</td>\n",
       "      <td>25</td>\n",
       "      <td>11</td>\n",
       "      <td>595</td>\n",
       "    </tr>\n",
       "    <tr>\n",
       "      <th>1</th>\n",
       "      <td>20190201</td>\n",
       "      <td>110</td>\n",
       "      <td>517</td>\n",
       "      <td>10</td>\n",
       "      <td>F</td>\n",
       "      <td>50</td>\n",
       "      <td>5</td>\n",
       "      <td>243</td>\n",
       "    </tr>\n",
       "    <tr>\n",
       "      <th>2</th>\n",
       "      <td>20190201</td>\n",
       "      <td>110</td>\n",
       "      <td>517</td>\n",
       "      <td>10</td>\n",
       "      <td>F</td>\n",
       "      <td>55</td>\n",
       "      <td>5</td>\n",
       "      <td>27</td>\n",
       "    </tr>\n",
       "    <tr>\n",
       "      <th>3</th>\n",
       "      <td>20190201</td>\n",
       "      <td>110</td>\n",
       "      <td>517</td>\n",
       "      <td>10</td>\n",
       "      <td>M</td>\n",
       "      <td>20</td>\n",
       "      <td>11</td>\n",
       "      <td>243</td>\n",
       "    </tr>\n",
       "    <tr>\n",
       "      <th>4</th>\n",
       "      <td>20190201</td>\n",
       "      <td>110</td>\n",
       "      <td>517</td>\n",
       "      <td>10</td>\n",
       "      <td>M</td>\n",
       "      <td>25</td>\n",
       "      <td>11</td>\n",
       "      <td>433</td>\n",
       "    </tr>\n",
       "  </tbody>\n",
       "</table>\n",
       "</div>"
      ],
      "text/plain": [
       "     STD_DD  GU_CD  DONG_CD  MCT_CAT_CD SEX_CD  AGE_CD  USE_CNT  USE_AMT\n",
       "0  20190201    110      517          10      F      25       11      595\n",
       "1  20190201    110      517          10      F      50        5      243\n",
       "2  20190201    110      517          10      F      55        5       27\n",
       "3  20190201    110      517          10      M      20       11      243\n",
       "4  20190201    110      517          10      M      25       11      433"
      ]
     },
     "execution_count": 4,
     "metadata": {},
     "output_type": "execute_result"
    }
   ],
   "source": [
    "resident.head()"
   ]
  },
  {
   "cell_type": "code",
   "execution_count": 5,
   "metadata": {},
   "outputs": [
    {
     "name": "stdout",
     "output_type": "stream",
     "text": [
      "<class 'pandas.core.frame.DataFrame'>\n",
      "RangeIndex: 2537753 entries, 0 to 2537752\n",
      "Data columns (total 8 columns):\n",
      " #   Column      Dtype \n",
      "---  ------      ----- \n",
      " 0   STD_DD      int64 \n",
      " 1   GU_CD       int64 \n",
      " 2   DONG_CD     int64 \n",
      " 3   MCT_CAT_CD  int64 \n",
      " 4   SEX_CD      object\n",
      " 5   AGE_CD      int64 \n",
      " 6   USE_CNT     int64 \n",
      " 7   USE_AMT     int64 \n",
      "dtypes: int64(7), object(1)\n",
      "memory usage: 154.9+ MB\n"
     ]
    }
   ],
   "source": [
    "resident.info()"
   ]
  },
  {
   "cell_type": "markdown",
   "metadata": {},
   "source": [
    "### Data Describtion\n",
    "- STD_DD\t기준일자\n",
    "- GU_CD\t구코드\n",
    "- DONG_CD\t행정동코드\n",
    "- MCT_CAT_CD\t업종코드\n",
    "- SEX_CD\t성별코드\n",
    "- AGE_CD\t나이코드\n",
    "- USE_CNT\t이용건수\n",
    "- USE_AMT\t이용금액"
   ]
  },
  {
   "cell_type": "code",
   "execution_count": 6,
   "metadata": {},
   "outputs": [
    {
     "data": {
      "text/html": [
       "<div>\n",
       "<style scoped>\n",
       "    .dataframe tbody tr th:only-of-type {\n",
       "        vertical-align: middle;\n",
       "    }\n",
       "\n",
       "    .dataframe tbody tr th {\n",
       "        vertical-align: top;\n",
       "    }\n",
       "\n",
       "    .dataframe thead th {\n",
       "        text-align: right;\n",
       "    }\n",
       "</style>\n",
       "<table border=\"1\" class=\"dataframe\">\n",
       "  <thead>\n",
       "    <tr style=\"text-align: right;\">\n",
       "      <th></th>\n",
       "      <th>STD_DD</th>\n",
       "      <th>GU_CD</th>\n",
       "      <th>DONG_CD</th>\n",
       "      <th>MCT_CAT_CD</th>\n",
       "      <th>COUNTRY_NM</th>\n",
       "      <th>USE_CNT</th>\n",
       "      <th>USE_AMT</th>\n",
       "    </tr>\n",
       "  </thead>\n",
       "  <tbody>\n",
       "    <tr>\n",
       "      <th>0</th>\n",
       "      <td>20190204</td>\n",
       "      <td>260</td>\n",
       "      <td>510</td>\n",
       "      <td>81</td>\n",
       "      <td>대만</td>\n",
       "      <td>2</td>\n",
       "      <td>30.0</td>\n",
       "    </tr>\n",
       "    <tr>\n",
       "      <th>1</th>\n",
       "      <td>20190213</td>\n",
       "      <td>260</td>\n",
       "      <td>510</td>\n",
       "      <td>40</td>\n",
       "      <td>대만</td>\n",
       "      <td>2</td>\n",
       "      <td>32.0</td>\n",
       "    </tr>\n",
       "    <tr>\n",
       "      <th>2</th>\n",
       "      <td>20190416</td>\n",
       "      <td>260</td>\n",
       "      <td>510</td>\n",
       "      <td>40</td>\n",
       "      <td>대만</td>\n",
       "      <td>2</td>\n",
       "      <td>16.0</td>\n",
       "    </tr>\n",
       "    <tr>\n",
       "      <th>3</th>\n",
       "      <td>20190419</td>\n",
       "      <td>260</td>\n",
       "      <td>510</td>\n",
       "      <td>42</td>\n",
       "      <td>대만</td>\n",
       "      <td>3</td>\n",
       "      <td>610.0</td>\n",
       "    </tr>\n",
       "    <tr>\n",
       "      <th>4</th>\n",
       "      <td>20190308</td>\n",
       "      <td>260</td>\n",
       "      <td>510</td>\n",
       "      <td>10</td>\n",
       "      <td>대만</td>\n",
       "      <td>7</td>\n",
       "      <td>629.0</td>\n",
       "    </tr>\n",
       "  </tbody>\n",
       "</table>\n",
       "</div>"
      ],
      "text/plain": [
       "     STD_DD  GU_CD  DONG_CD  MCT_CAT_CD COUNTRY_NM  USE_CNT  USE_AMT\n",
       "0  20190204    260      510          81         대만        2     30.0\n",
       "1  20190213    260      510          40         대만        2     32.0\n",
       "2  20190416    260      510          40         대만        2     16.0\n",
       "3  20190419    260      510          42         대만        3    610.0\n",
       "4  20190308    260      510          10         대만        7    629.0"
      ]
     },
     "execution_count": 6,
     "metadata": {},
     "output_type": "execute_result"
    }
   ],
   "source": [
    "foreigner.head()"
   ]
  },
  {
   "cell_type": "code",
   "execution_count": 7,
   "metadata": {},
   "outputs": [
    {
     "name": "stdout",
     "output_type": "stream",
     "text": [
      "resident: (2537753, 8) foreigner: (238829, 7)\n"
     ]
    }
   ],
   "source": [
    "print('resident:' , resident.shape ,\"foreigner:\" , foreigner.shape)"
   ]
  },
  {
   "cell_type": "code",
   "execution_count": 8,
   "metadata": {},
   "outputs": [
    {
     "data": {
      "text/plain": [
       "STD_DD        0\n",
       "GU_CD         0\n",
       "DONG_CD       0\n",
       "MCT_CAT_CD    0\n",
       "SEX_CD        0\n",
       "AGE_CD        0\n",
       "USE_CNT       0\n",
       "USE_AMT       0\n",
       "dtype: int64"
      ]
     },
     "execution_count": 8,
     "metadata": {},
     "output_type": "execute_result"
    }
   ],
   "source": [
    "resident.isnull().sum()"
   ]
  },
  {
   "cell_type": "code",
   "execution_count": 9,
   "metadata": {},
   "outputs": [
    {
     "data": {
      "text/plain": [
       "STD_DD        0\n",
       "GU_CD         0\n",
       "DONG_CD       0\n",
       "MCT_CAT_CD    0\n",
       "COUNTRY_NM    0\n",
       "USE_CNT       0\n",
       "USE_AMT       3\n",
       "dtype: int64"
      ]
     },
     "execution_count": 9,
     "metadata": {},
     "output_type": "execute_result"
    }
   ],
   "source": [
    "foreigner.isnull().sum()"
   ]
  },
  {
   "cell_type": "code",
   "execution_count": 10,
   "metadata": {},
   "outputs": [],
   "source": [
    "resident['YEAR']=resident['STD_DD']//10000\n",
    "resident['MONTH']=(resident['STD_DD']//100)%100\n",
    "resident=resident.drop(['STD_DD'],axis=1)\n",
    "\n",
    "foreigner['YEAR']=foreigner['STD_DD']//10000\n",
    "foreigner['MONTH']=(foreigner['STD_DD']//100)%100"
   ]
  },
  {
   "cell_type": "code",
   "execution_count": 11,
   "metadata": {},
   "outputs": [
    {
     "data": {
      "text/html": [
       "<div>\n",
       "<style scoped>\n",
       "    .dataframe tbody tr th:only-of-type {\n",
       "        vertical-align: middle;\n",
       "    }\n",
       "\n",
       "    .dataframe tbody tr th {\n",
       "        vertical-align: top;\n",
       "    }\n",
       "\n",
       "    .dataframe thead th {\n",
       "        text-align: right;\n",
       "    }\n",
       "</style>\n",
       "<table border=\"1\" class=\"dataframe\">\n",
       "  <thead>\n",
       "    <tr style=\"text-align: right;\">\n",
       "      <th></th>\n",
       "      <th>GU_CD</th>\n",
       "      <th>DONG_CD</th>\n",
       "      <th>MCT_CAT_CD</th>\n",
       "      <th>SEX_CD</th>\n",
       "      <th>AGE_CD</th>\n",
       "      <th>USE_CNT</th>\n",
       "      <th>USE_AMT</th>\n",
       "      <th>YEAR</th>\n",
       "      <th>MONTH</th>\n",
       "    </tr>\n",
       "  </thead>\n",
       "  <tbody>\n",
       "    <tr>\n",
       "      <th>0</th>\n",
       "      <td>110</td>\n",
       "      <td>517</td>\n",
       "      <td>10</td>\n",
       "      <td>F</td>\n",
       "      <td>25</td>\n",
       "      <td>11</td>\n",
       "      <td>595</td>\n",
       "      <td>2019</td>\n",
       "      <td>2</td>\n",
       "    </tr>\n",
       "    <tr>\n",
       "      <th>1</th>\n",
       "      <td>110</td>\n",
       "      <td>517</td>\n",
       "      <td>10</td>\n",
       "      <td>F</td>\n",
       "      <td>50</td>\n",
       "      <td>5</td>\n",
       "      <td>243</td>\n",
       "      <td>2019</td>\n",
       "      <td>2</td>\n",
       "    </tr>\n",
       "    <tr>\n",
       "      <th>2</th>\n",
       "      <td>110</td>\n",
       "      <td>517</td>\n",
       "      <td>10</td>\n",
       "      <td>F</td>\n",
       "      <td>55</td>\n",
       "      <td>5</td>\n",
       "      <td>27</td>\n",
       "      <td>2019</td>\n",
       "      <td>2</td>\n",
       "    </tr>\n",
       "    <tr>\n",
       "      <th>3</th>\n",
       "      <td>110</td>\n",
       "      <td>517</td>\n",
       "      <td>10</td>\n",
       "      <td>M</td>\n",
       "      <td>20</td>\n",
       "      <td>11</td>\n",
       "      <td>243</td>\n",
       "      <td>2019</td>\n",
       "      <td>2</td>\n",
       "    </tr>\n",
       "    <tr>\n",
       "      <th>4</th>\n",
       "      <td>110</td>\n",
       "      <td>517</td>\n",
       "      <td>10</td>\n",
       "      <td>M</td>\n",
       "      <td>25</td>\n",
       "      <td>11</td>\n",
       "      <td>433</td>\n",
       "      <td>2019</td>\n",
       "      <td>2</td>\n",
       "    </tr>\n",
       "  </tbody>\n",
       "</table>\n",
       "</div>"
      ],
      "text/plain": [
       "   GU_CD  DONG_CD  MCT_CAT_CD SEX_CD  AGE_CD  USE_CNT  USE_AMT  YEAR  MONTH\n",
       "0    110      517          10      F      25       11      595  2019      2\n",
       "1    110      517          10      F      50        5      243  2019      2\n",
       "2    110      517          10      F      55        5       27  2019      2\n",
       "3    110      517          10      M      20       11      243  2019      2\n",
       "4    110      517          10      M      25       11      433  2019      2"
      ]
     },
     "execution_count": 11,
     "metadata": {},
     "output_type": "execute_result"
    }
   ],
   "source": [
    "resident.head()"
   ]
  },
  {
   "cell_type": "code",
   "execution_count": 12,
   "metadata": {},
   "outputs": [
    {
     "name": "stdout",
     "output_type": "stream",
     "text": [
      "resident year:  [2019 2020] resident month:  [2 3 4 5]\n",
      "foreigner year:  [2019 2020] foreigner month:  [2 4 3 5]\n"
     ]
    }
   ],
   "source": [
    "print(\"resident year: \", resident['YEAR'].unique(),\"resident month: \",resident['MONTH'].unique())\n",
    "print(\"foreigner year: \", foreigner['YEAR'].unique(),\"foreigner month: \",foreigner['MONTH'].unique())"
   ]
  },
  {
   "cell_type": "code",
   "execution_count": 13,
   "metadata": {},
   "outputs": [],
   "source": [
    "resident = resident[['YEAR','MONTH','GU_CD','DONG_CD','MCT_CAT_CD','SEX_CD','AGE_CD','USE_CNT','USE_AMT']]"
   ]
  },
  {
   "cell_type": "code",
   "execution_count": 14,
   "metadata": {},
   "outputs": [],
   "source": [
    "# resident.columns=['년','월','구코드','행정동코드','업종코드','성별코드','나이코드','이용건수','이용금액']"
   ]
  },
  {
   "cell_type": "code",
   "execution_count": 15,
   "metadata": {},
   "outputs": [
    {
     "data": {
      "text/html": [
       "<div>\n",
       "<style scoped>\n",
       "    .dataframe tbody tr th:only-of-type {\n",
       "        vertical-align: middle;\n",
       "    }\n",
       "\n",
       "    .dataframe tbody tr th {\n",
       "        vertical-align: top;\n",
       "    }\n",
       "\n",
       "    .dataframe thead th {\n",
       "        text-align: right;\n",
       "    }\n",
       "</style>\n",
       "<table border=\"1\" class=\"dataframe\">\n",
       "  <thead>\n",
       "    <tr style=\"text-align: right;\">\n",
       "      <th></th>\n",
       "      <th>YEAR</th>\n",
       "      <th>MONTH</th>\n",
       "      <th>GU_CD</th>\n",
       "      <th>DONG_CD</th>\n",
       "      <th>MCT_CAT_CD</th>\n",
       "      <th>SEX_CD</th>\n",
       "      <th>AGE_CD</th>\n",
       "      <th>USE_CNT</th>\n",
       "      <th>USE_AMT</th>\n",
       "    </tr>\n",
       "  </thead>\n",
       "  <tbody>\n",
       "    <tr>\n",
       "      <th>0</th>\n",
       "      <td>2019</td>\n",
       "      <td>2</td>\n",
       "      <td>110</td>\n",
       "      <td>517</td>\n",
       "      <td>10</td>\n",
       "      <td>F</td>\n",
       "      <td>25</td>\n",
       "      <td>11</td>\n",
       "      <td>595</td>\n",
       "    </tr>\n",
       "    <tr>\n",
       "      <th>1</th>\n",
       "      <td>2019</td>\n",
       "      <td>2</td>\n",
       "      <td>110</td>\n",
       "      <td>517</td>\n",
       "      <td>10</td>\n",
       "      <td>F</td>\n",
       "      <td>50</td>\n",
       "      <td>5</td>\n",
       "      <td>243</td>\n",
       "    </tr>\n",
       "    <tr>\n",
       "      <th>2</th>\n",
       "      <td>2019</td>\n",
       "      <td>2</td>\n",
       "      <td>110</td>\n",
       "      <td>517</td>\n",
       "      <td>10</td>\n",
       "      <td>F</td>\n",
       "      <td>55</td>\n",
       "      <td>5</td>\n",
       "      <td>27</td>\n",
       "    </tr>\n",
       "    <tr>\n",
       "      <th>3</th>\n",
       "      <td>2019</td>\n",
       "      <td>2</td>\n",
       "      <td>110</td>\n",
       "      <td>517</td>\n",
       "      <td>10</td>\n",
       "      <td>M</td>\n",
       "      <td>20</td>\n",
       "      <td>11</td>\n",
       "      <td>243</td>\n",
       "    </tr>\n",
       "    <tr>\n",
       "      <th>4</th>\n",
       "      <td>2019</td>\n",
       "      <td>2</td>\n",
       "      <td>110</td>\n",
       "      <td>517</td>\n",
       "      <td>10</td>\n",
       "      <td>M</td>\n",
       "      <td>25</td>\n",
       "      <td>11</td>\n",
       "      <td>433</td>\n",
       "    </tr>\n",
       "  </tbody>\n",
       "</table>\n",
       "</div>"
      ],
      "text/plain": [
       "   YEAR  MONTH  GU_CD  DONG_CD  MCT_CAT_CD SEX_CD  AGE_CD  USE_CNT  USE_AMT\n",
       "0  2019      2    110      517          10      F      25       11      595\n",
       "1  2019      2    110      517          10      F      50        5      243\n",
       "2  2019      2    110      517          10      F      55        5       27\n",
       "3  2019      2    110      517          10      M      20       11      243\n",
       "4  2019      2    110      517          10      M      25       11      433"
      ]
     },
     "execution_count": 15,
     "metadata": {},
     "output_type": "execute_result"
    }
   ],
   "source": [
    "resident.head()"
   ]
  },
  {
   "cell_type": "code",
   "execution_count": 16,
   "metadata": {},
   "outputs": [
    {
     "name": "stdout",
     "output_type": "stream",
     "text": [
      "구코드 unique\n",
      " [110 140 260 350]\n",
      "행정동코드 unique \n",
      " [517 545 565 575 585 595 640 650 660 670 680 690 520 540 550 570 580 590\n",
      " 605 615 625 635 645 665 510 530 560 561 601 602 610 620 630 651 652 661\n",
      " 662 600 611 612 619 621 624 695 700 710 720]\n",
      "나이코드 unique\n",
      " [25 50 55 20 30 35 40 45 65 60]\n",
      "업종코드 unique\n",
      " [10 20 21 31 32 33 34 40 52 62 70 71 80 81 92 22 30 35 42 44 50 43 60]\n",
      "이용건수 unique\n",
      " [  11    5   16 ... 9383 7291 3829]\n",
      "이용금액 unique\n",
      " [  595   243    27 ... 79763 37522 56055]\n"
     ]
    }
   ],
   "source": [
    "print(\"구코드 unique\\n\",resident.GU_CD.unique())\n",
    "print(\"행정동코드 unique \\n\",resident.DONG_CD.unique())\n",
    "print(\"나이코드 unique\\n\",resident.AGE_CD.unique())\n",
    "print(\"업종코드 unique\\n\",resident.MCT_CAT_CD.unique())\n",
    "print(\"이용건수 unique\\n\",resident.USE_CNT.unique())\n",
    "print(\"이용금액 unique\\n\",resident.USE_AMT.unique())"
   ]
  },
  {
   "cell_type": "code",
   "execution_count": 17,
   "metadata": {},
   "outputs": [
    {
     "name": "stdout",
     "output_type": "stream",
     "text": [
      "연령대별 이용 총 금액:  20  ,  345604059\n",
      "연령대별 이용 총 금액:  25  ,  746116992\n",
      "연령대별 이용 총 금액:  30  ,  726108683\n",
      "연령대별 이용 총 금액:  35  ,  790366967\n",
      "연령대별 이용 총 금액:  40  ,  756676736\n",
      "연령대별 이용 총 금액:  45  ,  882011212\n",
      "연령대별 이용 총 금액:  50  ,  793963553\n",
      "연령대별 이용 총 금액:  55  ,  596300453\n",
      "연령대별 이용 총 금액:  60  ,  430390045\n",
      "연령대별 이용 총 금액:  65  ,  495977349\n"
     ]
    }
   ],
   "source": [
    "# 나이별 이용 금액\n",
    "for i in range(20,70,5):\n",
    "    print(\"연령대별 이용 총 금액: \",i ,\" , \",resident[resident['AGE_CD']==i].USE_AMT.sum())"
   ]
  },
  {
   "cell_type": "markdown",
   "metadata": {},
   "source": [
    "#### 정규분포 곡선을 따름"
   ]
  },
  {
   "cell_type": "code",
   "execution_count": 18,
   "metadata": {
    "scrolled": true
   },
   "outputs": [
    {
     "data": {
      "image/png": "[encoded data removed]",
      "text/plain": [
       "<Figure size 432x288 with 1 Axes>"
      ]
     },
     "metadata": {},
     "output_type": "display_data"
    }
   ],
   "source": [
    "resident.SEX_CD.value_counts()\n",
    "plt.figure()\n",
    "categories = ['M','F']\n",
    "plt.pie(resident.SEX_CD.value_counts(),labels=categories,autopct='%0.1f%%')\n",
    "plt.show()"
   ]
  },
  {
   "cell_type": "code",
   "execution_count": 19,
   "metadata": {},
   "outputs": [
    {
     "data": {
      "text/plain": [
       "350    761412\n",
       "260    746820\n",
       "140    667106\n",
       "110    362415\n",
       "Name: GU_CD, dtype: int64"
      ]
     },
     "execution_count": 19,
     "metadata": {},
     "output_type": "execute_result"
    }
   ],
   "source": [
    "resident.GU_CD.value_counts()"
   ]
  },
  {
   "cell_type": "markdown",
   "metadata": {},
   "source": [
    "*  110 - 대구 중구\n",
    "*  140 - 서울 중구\n",
    "*  260 - 대구 수성구\n",
    "*  350 - 서울 노원구"
   ]
  },
  {
   "cell_type": "markdown",
   "metadata": {},
   "source": [
    "## Data Visualization"
   ]
  },
  {
   "cell_type": "markdown",
   "metadata": {},
   "source": [
    "### 연도별 비교 (2019, 2020 총 이용금액 그래프 비교)\n",
    "- 연도별 카드 총 소비 금액을 비교 :  작년 같은 시기와 비교하여 어떠한 차이점이 나타나는가?\n",
    "- categories: YEAR, USE_AMT"
   ]
  },
  {
   "cell_type": "code",
   "execution_count": null,
   "metadata": {},
   "outputs": [],
   "source": []
  },
  {
   "cell_type": "markdown",
   "metadata": {},
   "source": [
    "### 연도별 소비패턴 변화 그래프 분석 \n",
    "- 연도별 업종에 따른 소비 건수 분석: 사람들이 소비를 어디에 사용했는지를 분석하고 코로나 등 시대 흐름에 따른 패턴 변화를 분석\n",
    "- categories: YEAR, MAT_CNT..., USE_CNT"
   ]
  },
  {
   "cell_type": "code",
   "execution_count": null,
   "metadata": {},
   "outputs": [],
   "source": [
    "total_mct_usecnt=resident.groupby(['MCT_CAT_CD']).agg({'USE_CNT':['sum']})\n",
    "total_sex_mct=resident.groupby(['SEX_CD']).agg({'MCT_CAT_CD':['sum']})\n",
    "\n",
    "fig, (ax1, ax2) = plt.subplots(1, 2, figsize=(17,7))\n",
    "total_mct_usecnt.plot(ax=ax1)\n",
    "ax1.set_title(\"card_usage of mct_cnt_cd\", size=13)\n",
    "ax1.set_ylabel(\"total useage\", size=13)\n",
    "ax1.set_xlabel(\"mct_cat_cd\", size=13)\n",
    "\n",
    "total_sex_mct.plot(ax=ax2, color='orange')\n",
    "ax2.set_title(\"mct_cat_cd of sex_cd\", size=13)\n",
    "ax2.set_ylabel(\"total mct_cat_cd\", size=13)\n",
    "ax2.set_xlabel(\"sex_cd\", size=13)"
   ]
  },
  {
   "cell_type": "markdown",
   "metadata": {},
   "source": [
    "### 지역별 소비 건수와 소비 패턴 분석\n",
    "- 지역마다 소비패턴의 유사도를 파악 : 왜 이러한 현상이 나타나게 되었는지를 파악 및 분석 진행\n",
    "> 서울의 카드 소비가 더 많다., 남여 사용 비용은 이용금액에 큰 영향이 없다. 2019년이 2020년보다 더 소비가 많다.(3,4,5월에 편협적이다)"
   ]
  },
  {
   "cell_type": "code",
   "execution_count": null,
   "metadata": {},
   "outputs": [],
   "source": []
  },
  {
   "cell_type": "markdown",
   "metadata": {},
   "source": [
    "### 시간에 따른 소비패턴과 성별의 연관성\n",
    "- 각 연도에 따른 소비패턴과 성별과 연관성이 존재하는가?\n",
    "- 존재한다면 어떠한 상관관계를 가지고 있는가?"
   ]
  },
  {
   "cell_type": "code",
   "execution_count": null,
   "metadata": {},
   "outputs": [],
   "source": []
  },
  {
   "cell_type": "markdown",
   "metadata": {},
   "source": [
    "### 결론 : 다양한 데이터를 활용하여 감염병(코로나19, 메르스 등)으로 인한 소비/경제/행동 변화에 따른 사회적 영향 파악 및 분석"
   ]
  },
  {
   "cell_type": "code",
   "execution_count": null,
   "metadata": {},
   "outputs": [],
   "source": []
  },
  {
   "cell_type": "markdown",
   "metadata": {},
   "source": [
    "## Data Featureing"
   ]
  },
  {
   "cell_type": "code",
   "execution_count": null,
   "metadata": {},
   "outputs": [],
   "source": [
    "resident.MCT_CAT_CD.plot(kind='hist',bins=92)"
   ]
  },
  {
   "cell_type": "code",
   "execution_count": null,
   "metadata": {},
   "outputs": [],
   "source": [
    "resident.describe()"
   ]
  },
  {
   "cell_type": "markdown",
   "metadata": {},
   "source": [
    "### Data M"
   ]
  }
 ],
 "metadata": {
  "kernelspec": {
   "display_name": "Python 3",
   "language": "python",
   "name": "python3"
  },
  "language_info": {
   "codemirror_mode": {
    "name": "ipython",
    "version": 3
   },
   "file_extension": ".py",
   "mimetype": "text/x-python",
   "name": "python",
   "nbconvert_exporter": "python",
   "pygments_lexer": "ipython3",
   "version": "3.6.8"
  }
 },
 "nbformat": 4,
 "nbformat_minor": 2
}
