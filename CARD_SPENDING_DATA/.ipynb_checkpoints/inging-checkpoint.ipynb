{
 "cells": [
  {
   "cell_type": "code",
   "execution_count": 5,
   "metadata": {},
   "outputs": [],
   "source": [
    "import pandas as pd\n",
    "import numpy as np\n",
    "import datetime\n",
    "import matplotlib.pyplot as plt\n",
    "import seaborn as sns\n",
    "%matplotlib inline"
   ]
  },
  {
   "cell_type": "code",
   "execution_count": 6,
   "metadata": {},
   "outputs": [],
   "source": [
    "resident=pd.read_csv('../CARD_SPENDING_DATA/CARD_SPENDING_RESIDENT/CARD_SPENDING_RESIDENT.txt',delimiter='\\t',encoding='euc-kr')\n",
    "foreigner=pd.read_csv('../CARD_SPENDING_DATA/CARD_SPENDING_FOREIGNER/CARD_SPENDING_FOREIGNER.txt',delimiter='\\t',encoding='euc-kr')"
   ]
  },
  {
   "cell_type": "code",
   "execution_count": 7,
   "metadata": {},
   "outputs": [
    {
     "data": {
      "text/html": [
       "<div>\n",
       "<style scoped>\n",
       "    .dataframe tbody tr th:only-of-type {\n",
       "        vertical-align: middle;\n",
       "    }\n",
       "\n",
       "    .dataframe tbody tr th {\n",
       "        vertical-align: top;\n",
       "    }\n",
       "\n",
       "    .dataframe thead th {\n",
       "        text-align: right;\n",
       "    }\n",
       "</style>\n",
       "<table border=\"1\" class=\"dataframe\">\n",
       "  <thead>\n",
       "    <tr style=\"text-align: right;\">\n",
       "      <th></th>\n",
       "      <th>STD_DD</th>\n",
       "      <th>GU_CD</th>\n",
       "      <th>DONG_CD</th>\n",
       "      <th>MCT_CAT_CD</th>\n",
       "      <th>SEX_CD</th>\n",
       "      <th>AGE_CD</th>\n",
       "      <th>USE_CNT</th>\n",
       "      <th>USE_AMT</th>\n",
       "    </tr>\n",
       "  </thead>\n",
       "  <tbody>\n",
       "    <tr>\n",
       "      <th>0</th>\n",
       "      <td>20190201</td>\n",
       "      <td>110</td>\n",
       "      <td>517</td>\n",
       "      <td>10</td>\n",
       "      <td>F</td>\n",
       "      <td>25</td>\n",
       "      <td>11</td>\n",
       "      <td>595</td>\n",
       "    </tr>\n",
       "    <tr>\n",
       "      <th>1</th>\n",
       "      <td>20190201</td>\n",
       "      <td>110</td>\n",
       "      <td>517</td>\n",
       "      <td>10</td>\n",
       "      <td>F</td>\n",
       "      <td>50</td>\n",
       "      <td>5</td>\n",
       "      <td>243</td>\n",
       "    </tr>\n",
       "    <tr>\n",
       "      <th>2</th>\n",
       "      <td>20190201</td>\n",
       "      <td>110</td>\n",
       "      <td>517</td>\n",
       "      <td>10</td>\n",
       "      <td>F</td>\n",
       "      <td>55</td>\n",
       "      <td>5</td>\n",
       "      <td>27</td>\n",
       "    </tr>\n",
       "    <tr>\n",
       "      <th>3</th>\n",
       "      <td>20190201</td>\n",
       "      <td>110</td>\n",
       "      <td>517</td>\n",
       "      <td>10</td>\n",
       "      <td>M</td>\n",
       "      <td>20</td>\n",
       "      <td>11</td>\n",
       "      <td>243</td>\n",
       "    </tr>\n",
       "    <tr>\n",
       "      <th>4</th>\n",
       "      <td>20190201</td>\n",
       "      <td>110</td>\n",
       "      <td>517</td>\n",
       "      <td>10</td>\n",
       "      <td>M</td>\n",
       "      <td>25</td>\n",
       "      <td>11</td>\n",
       "      <td>433</td>\n",
       "    </tr>\n",
       "  </tbody>\n",
       "</table>\n",
       "</div>"
      ],
      "text/plain": [
       "     STD_DD  GU_CD  DONG_CD  MCT_CAT_CD SEX_CD  AGE_CD  USE_CNT  USE_AMT\n",
       "0  20190201    110      517          10      F      25       11      595\n",
       "1  20190201    110      517          10      F      50        5      243\n",
       "2  20190201    110      517          10      F      55        5       27\n",
       "3  20190201    110      517          10      M      20       11      243\n",
       "4  20190201    110      517          10      M      25       11      433"
      ]
     },
     "execution_count": 7,
     "metadata": {},
     "output_type": "execute_result"
    }
   ],
   "source": [
    "resident.head()"
   ]
  },
  {
   "cell_type": "code",
   "execution_count": 8,
   "metadata": {},
   "outputs": [
    {
     "name": "stdout",
     "output_type": "stream",
     "text": [
      "<class 'pandas.core.frame.DataFrame'>\n",
      "RangeIndex: 2537753 entries, 0 to 2537752\n",
      "Data columns (total 8 columns):\n",
      " #   Column      Dtype \n",
      "---  ------      ----- \n",
      " 0   STD_DD      int64 \n",
      " 1   GU_CD       int64 \n",
      " 2   DONG_CD     int64 \n",
      " 3   MCT_CAT_CD  int64 \n",
      " 4   SEX_CD      object\n",
      " 5   AGE_CD      int64 \n",
      " 6   USE_CNT     int64 \n",
      " 7   USE_AMT     int64 \n",
      "dtypes: int64(7), object(1)\n",
      "memory usage: 154.9+ MB\n"
     ]
    }
   ],
   "source": [
    "resident.info()"
   ]
  },
  {
   "attachments": {},
   "cell_type": "markdown",
   "metadata": {},
   "source": [
    "### Data Describtion\n",
    "- STD_DD\t기준일자\n",
    "- GU_CD\t구코드\n",
    "- DONG_CD\t행정동코드\n",
    "- MCT_CAT_CD\t업종코드\n",
    "- SEX_CD\t성별코드\n",
    "- AGE_CD\t나이코드\n",
    "- USE_CNT\t이용건수\n",
    "- USE_AMT\t이용금액"
   ]
  },
  {
   "cell_type": "code",
   "execution_count": 9,
   "metadata": {},
   "outputs": [
    {
     "data": {
      "text/html": [
       "<div>\n",
       "<style scoped>\n",
       "    .dataframe tbody tr th:only-of-type {\n",
       "        vertical-align: middle;\n",
       "    }\n",
       "\n",
       "    .dataframe tbody tr th {\n",
       "        vertical-align: top;\n",
       "    }\n",
       "\n",
       "    .dataframe thead th {\n",
       "        text-align: right;\n",
       "    }\n",
       "</style>\n",
       "<table border=\"1\" class=\"dataframe\">\n",
       "  <thead>\n",
       "    <tr style=\"text-align: right;\">\n",
       "      <th></th>\n",
       "      <th>STD_DD</th>\n",
       "      <th>GU_CD</th>\n",
       "      <th>DONG_CD</th>\n",
       "      <th>MCT_CAT_CD</th>\n",
       "      <th>COUNTRY_NM</th>\n",
       "      <th>USE_CNT</th>\n",
       "      <th>USE_AMT</th>\n",
       "    </tr>\n",
       "  </thead>\n",
       "  <tbody>\n",
       "    <tr>\n",
       "      <th>0</th>\n",
       "      <td>20190204</td>\n",
       "      <td>260</td>\n",
       "      <td>510</td>\n",
       "      <td>81</td>\n",
       "      <td>대만</td>\n",
       "      <td>2</td>\n",
       "      <td>30.0</td>\n",
       "    </tr>\n",
       "    <tr>\n",
       "      <th>1</th>\n",
       "      <td>20190213</td>\n",
       "      <td>260</td>\n",
       "      <td>510</td>\n",
       "      <td>40</td>\n",
       "      <td>대만</td>\n",
       "      <td>2</td>\n",
       "      <td>32.0</td>\n",
       "    </tr>\n",
       "    <tr>\n",
       "      <th>2</th>\n",
       "      <td>20190416</td>\n",
       "      <td>260</td>\n",
       "      <td>510</td>\n",
       "      <td>40</td>\n",
       "      <td>대만</td>\n",
       "      <td>2</td>\n",
       "      <td>16.0</td>\n",
       "    </tr>\n",
       "    <tr>\n",
       "      <th>3</th>\n",
       "      <td>20190419</td>\n",
       "      <td>260</td>\n",
       "      <td>510</td>\n",
       "      <td>42</td>\n",
       "      <td>대만</td>\n",
       "      <td>3</td>\n",
       "      <td>610.0</td>\n",
       "    </tr>\n",
       "    <tr>\n",
       "      <th>4</th>\n",
       "      <td>20190308</td>\n",
       "      <td>260</td>\n",
       "      <td>510</td>\n",
       "      <td>10</td>\n",
       "      <td>대만</td>\n",
       "      <td>7</td>\n",
       "      <td>629.0</td>\n",
       "    </tr>\n",
       "  </tbody>\n",
       "</table>\n",
       "</div>"
      ],
      "text/plain": [
       "     STD_DD  GU_CD  DONG_CD  MCT_CAT_CD COUNTRY_NM  USE_CNT  USE_AMT\n",
       "0  20190204    260      510          81         대만        2     30.0\n",
       "1  20190213    260      510          40         대만        2     32.0\n",
       "2  20190416    260      510          40         대만        2     16.0\n",
       "3  20190419    260      510          42         대만        3    610.0\n",
       "4  20190308    260      510          10         대만        7    629.0"
      ]
     },
     "execution_count": 9,
     "metadata": {},
     "output_type": "execute_result"
    }
   ],
   "source": [
    "foreigner.head()"
   ]
  },
  {
   "cell_type": "code",
   "execution_count": 10,
   "metadata": {},
   "outputs": [
    {
     "name": "stdout",
     "output_type": "stream",
     "text": [
      "resident: (2537753, 8) foreigner: (238829, 7)\n"
     ]
    }
   ],
   "source": [
    "print('resident:' , resident.shape ,\"foreigner:\" , foreigner.shape)"
   ]
  },
  {
   "cell_type": "code",
   "execution_count": 11,
   "metadata": {},
   "outputs": [
    {
     "data": {
      "text/plain": [
       "STD_DD        0\n",
       "GU_CD         0\n",
       "DONG_CD       0\n",
       "MCT_CAT_CD    0\n",
       "SEX_CD        0\n",
       "AGE_CD        0\n",
       "USE_CNT       0\n",
       "USE_AMT       0\n",
       "dtype: int64"
      ]
     },
     "execution_count": 11,
     "metadata": {},
     "output_type": "execute_result"
    }
   ],
   "source": [
    "resident.isnull().sum()"
   ]
  },
  {
   "cell_type": "code",
   "execution_count": 12,
   "metadata": {},
   "outputs": [
    {
     "data": {
      "text/plain": [
       "STD_DD        0\n",
       "GU_CD         0\n",
       "DONG_CD       0\n",
       "MCT_CAT_CD    0\n",
       "COUNTRY_NM    0\n",
       "USE_CNT       0\n",
       "USE_AMT       3\n",
       "dtype: int64"
      ]
     },
     "execution_count": 12,
     "metadata": {},
     "output_type": "execute_result"
    }
   ],
   "source": [
    "foreigner.isnull().sum()"
   ]
  },
  {
   "cell_type": "code",
   "execution_count": 13,
   "metadata": {},
   "outputs": [],
   "source": [
    "resident['YEAR']=resident['STD_DD']//10000\n",
    "resident['MONTH']=(resident['STD_DD']//100)%100\n",
    "resident=resident.drop(['STD_DD'],axis=1)\n",
    "\n",
    "foreigner['YEAR']=foreigner['STD_DD']//10000\n",
    "foreigner['MONTH']=(foreigner['STD_DD']//100)%100"
   ]
  },
  {
   "cell_type": "code",
   "execution_count": 14,
   "metadata": {},
   "outputs": [
    {
     "data": {
      "text/html": [
       "<div>\n",
       "<style scoped>\n",
       "    .dataframe tbody tr th:only-of-type {\n",
       "        vertical-align: middle;\n",
       "    }\n",
       "\n",
       "    .dataframe tbody tr th {\n",
       "        vertical-align: top;\n",
       "    }\n",
       "\n",
       "    .dataframe thead th {\n",
       "        text-align: right;\n",
       "    }\n",
       "</style>\n",
       "<table border=\"1\" class=\"dataframe\">\n",
       "  <thead>\n",
       "    <tr style=\"text-align: right;\">\n",
       "      <th></th>\n",
       "      <th>GU_CD</th>\n",
       "      <th>DONG_CD</th>\n",
       "      <th>MCT_CAT_CD</th>\n",
       "      <th>SEX_CD</th>\n",
       "      <th>AGE_CD</th>\n",
       "      <th>USE_CNT</th>\n",
       "      <th>USE_AMT</th>\n",
       "      <th>YEAR</th>\n",
       "      <th>MONTH</th>\n",
       "    </tr>\n",
       "  </thead>\n",
       "  <tbody>\n",
       "    <tr>\n",
       "      <th>0</th>\n",
       "      <td>110</td>\n",
       "      <td>517</td>\n",
       "      <td>10</td>\n",
       "      <td>F</td>\n",
       "      <td>25</td>\n",
       "      <td>11</td>\n",
       "      <td>595</td>\n",
       "      <td>2019</td>\n",
       "      <td>2</td>\n",
       "    </tr>\n",
       "    <tr>\n",
       "      <th>1</th>\n",
       "      <td>110</td>\n",
       "      <td>517</td>\n",
       "      <td>10</td>\n",
       "      <td>F</td>\n",
       "      <td>50</td>\n",
       "      <td>5</td>\n",
       "      <td>243</td>\n",
       "      <td>2019</td>\n",
       "      <td>2</td>\n",
       "    </tr>\n",
       "    <tr>\n",
       "      <th>2</th>\n",
       "      <td>110</td>\n",
       "      <td>517</td>\n",
       "      <td>10</td>\n",
       "      <td>F</td>\n",
       "      <td>55</td>\n",
       "      <td>5</td>\n",
       "      <td>27</td>\n",
       "      <td>2019</td>\n",
       "      <td>2</td>\n",
       "    </tr>\n",
       "    <tr>\n",
       "      <th>3</th>\n",
       "      <td>110</td>\n",
       "      <td>517</td>\n",
       "      <td>10</td>\n",
       "      <td>M</td>\n",
       "      <td>20</td>\n",
       "      <td>11</td>\n",
       "      <td>243</td>\n",
       "      <td>2019</td>\n",
       "      <td>2</td>\n",
       "    </tr>\n",
       "    <tr>\n",
       "      <th>4</th>\n",
       "      <td>110</td>\n",
       "      <td>517</td>\n",
       "      <td>10</td>\n",
       "      <td>M</td>\n",
       "      <td>25</td>\n",
       "      <td>11</td>\n",
       "      <td>433</td>\n",
       "      <td>2019</td>\n",
       "      <td>2</td>\n",
       "    </tr>\n",
       "  </tbody>\n",
       "</table>\n",
       "</div>"
      ],
      "text/plain": [
       "   GU_CD  DONG_CD  MCT_CAT_CD SEX_CD  AGE_CD  USE_CNT  USE_AMT  YEAR  MONTH\n",
       "0    110      517          10      F      25       11      595  2019      2\n",
       "1    110      517          10      F      50        5      243  2019      2\n",
       "2    110      517          10      F      55        5       27  2019      2\n",
       "3    110      517          10      M      20       11      243  2019      2\n",
       "4    110      517          10      M      25       11      433  2019      2"
      ]
     },
     "execution_count": 14,
     "metadata": {},
     "output_type": "execute_result"
    }
   ],
   "source": [
    "resident.head()"
   ]
  },
  {
   "cell_type": "code",
   "execution_count": 15,
   "metadata": {},
   "outputs": [
    {
     "name": "stdout",
     "output_type": "stream",
     "text": [
      "resident year:  [2019 2020] resident month:  [2 3 4 5]\n",
      "foreigner year:  [2019 2020] foreigner month:  [2 4 3 5]\n"
     ]
    }
   ],
   "source": [
    "print(\"resident year: \", resident['YEAR'].unique(),\"resident month: \",resident['MONTH'].unique())\n",
    "print(\"foreigner year: \", foreigner['YEAR'].unique(),\"foreigner month: \",foreigner['MONTH'].unique())"
   ]
  },
  {
   "cell_type": "code",
   "execution_count": 16,
   "metadata": {},
   "outputs": [
    {
     "name": "stdout",
     "output_type": "stream",
     "text": [
      "GU_CD unique [110 140 260 350]\n",
      "DONG_CD unique [517 545 565 575 585 595 640 650 660 670 680 690 520 540 550 570 580 590\n",
      " 605 615 625 635 645 665 510 530 560 561 601 602 610 620 630 651 652 661\n",
      " 662 600 611 612 619 621 624 695 700 710 720]\n",
      "AGE_CD unique [25 50 55 20 30 35 40 45 65 60]\n",
      "MCT_CAT_CD unique [10 20 21 31 32 33 34 40 52 62 70 71 80 81 92 22 30 35 42 44 50 43 60]\n",
      "USE_CNT unique [  11    5   16 ... 9383 7291 3829]\n",
      "USE_AMT unique [  595   243    27 ... 79763 37522 56055]\n"
     ]
    }
   ],
   "source": [
    "print(\"GU_CD unique\",resident.GU_CD.unique())\n",
    "print(\"DONG_CD unique\",resident.DONG_CD.unique())\n",
    "print(\"AGE_CD unique\",resident.AGE_CD.unique())\n",
    "print(\"MCT_CAT_CD unique\",resident.MCT_CAT_CD.unique())\n",
    "print(\"USE_CNT unique\",resident.USE_CNT.unique())\n",
    "print(\"USE_AMT unique\",resident.USE_AMT.unique())"
   ]
  },
  {
   "cell_type": "code",
   "execution_count": 28,
   "metadata": {},
   "outputs": [
    {
     "name": "stdout",
     "output_type": "stream",
     "text": [
      "total spending of AGE_CD:  20  ,  345604059\n",
      "total spending of AGE_CD:  25  ,  746116992\n",
      "total spending of AGE_CD:  30  ,  726108683\n",
      "total spending of AGE_CD:  35  ,  790366967\n",
      "total spending of AGE_CD:  40  ,  756676736\n",
      "total spending of AGE_CD:  45  ,  882011212\n",
      "total spending of AGE_CD:  50  ,  793963553\n",
      "total spending of AGE_CD:  55  ,  596300453\n",
      "total spending of AGE_CD:  60  ,  430390045\n",
      "total spending of AGE_CD:  65  ,  495977349\n"
     ]
    }
   ],
   "source": [
    "# 나이별 이용 금액\n",
    "for i in range(20,70,5):\n",
    "    print(\"total spending of AGE_CD: \",i ,\" , \",resident[resident['AGE_CD']==i].USE_AMT.sum())"
   ]
  },
  {
   "cell_type": "markdown",
   "metadata": {},
   "source": [
    "#### 정규분포 곡선을 따름"
   ]
  },
  {
   "cell_type": "code",
   "execution_count": 18,
   "metadata": {
    "scrolled": true
   },
   "outputs": [
    {
     "data": {
      "image/png": "[encoded data removed]",
      "text/plain": [
       "<Figure size 432x288 with 1 Axes>"
      ]
     },
     "metadata": {},
     "output_type": "display_data"
    }
   ],
   "source": [
    "resident.SEX_CD.value_counts()\n",
    "plt.figure()\n",
    "categories = ['M','F']\n",
    "plt.pie(resident.SEX_CD.value_counts(),labels=categories,autopct='%0.1f%%')\n",
    "plt.show()"
   ]
  },
  {
   "cell_type": "code",
   "execution_count": 19,
   "metadata": {},
   "outputs": [
    {
     "data": {
      "text/plain": [
       "350    761412\n",
       "260    746820\n",
       "140    667106\n",
       "110    362415\n",
       "Name: GU_CD, dtype: int64"
      ]
     },
     "execution_count": 19,
     "metadata": {},
     "output_type": "execute_result"
    }
   ],
   "source": [
    "resident.GU_CD.value_counts()"
   ]
  },
  {
   "cell_type": "markdown",
   "metadata": {},
   "source": [
    "*  110 - 대구 중구\n",
    "*  140 - 서울 중구\n",
    "*  260 - 대구 수성구\n",
    "*  350 - 서울 노원구"
   ]
  },
  {
   "cell_type": "code",
   "execution_count": 35,
   "metadata": {},
   "outputs": [
    {
     "data": {
      "text/plain": [
       "Text(0.5, 0, 'year')"
      ]
     },
     "execution_count": 35,
     "metadata": {},
     "output_type": "execute_result"
    },
    {
     "data": {
      "image/png": "[encoded data removed]",
      "text/plain": [
       "<Figure size 1224x504 with 2 Axes>"
      ]
     },
     "metadata": {},
     "output_type": "display_data"
    }
   ],
   "source": [
    "# 연도별 이용금액, 구별 이용금액, 성별 이용금액\n",
    "total_date=resident.groupby(['YEAR']).agg({'USE_AMT':['sum']})\n",
    "                            \n",
    "total_gu=resident.groupby(['GU_CD']).agg({'USE_AMT':['sum']})\n",
    "total_sex=resident.groupby(['SEX_CD']).agg({'USE_AMT':['sum']})\n",
    "\n",
    "fig, (ax1, ax2) = plt.subplots(1, 2, figsize=(17,7))\n",
    "total_date.plot(ax=ax1)\n",
    "ax1.set_title(\"card_usage of 2019\", size=13)\n",
    "ax1.set_ylabel(\"total useage\", size=13)\n",
    "ax1.set_xlabel(\"year\", size=13)\n",
    "\n",
    "total_date.plot(ax=ax2, color='orange')\n",
    "ax2.set_title(\"card_usage of 2020\", size=13)\n",
    "ax2.set_ylabel(\"total useage\", size=13)\n",
    "ax2.set_xlabel(\"year\", size=13)"
   ]
  },
  {
   "cell_type": "markdown",
   "metadata": {},
   "source": [
    "> 서울의 카드 소비가 더 많다., 남여 사용 비용은 이용금액에 큰 영향이 없다. 2019년이 2020년보다 더 소비가 많다.(3,4,5월에 편협적이다)"
   ]
  },
  {
   "cell_type": "markdown",
   "metadata": {},
   "source": [
    "## Data Visualization"
   ]
  },
  {
   "cell_type": "code",
   "execution_count": 21,
   "metadata": {},
   "outputs": [
    {
     "data": {
      "text/plain": [
       "<matplotlib.axes._subplots.AxesSubplot at 0x1116522b0>"
      ]
     },
     "execution_count": 21,
     "metadata": {},
     "output_type": "execute_result"
    },
    {
     "data": {
      "image/png": "[encoded data removed]",
      "text/plain": [
       "<Figure size 432x288 with 1 Axes>"
      ]
     },
     "metadata": {},
     "output_type": "display_data"
    }
   ],
   "source": [
    "resident.MCT_CAT_CD.plot(kind='hist',bins=92)"
   ]
  },
  {
   "cell_type": "code",
   "execution_count": 22,
   "metadata": {},
   "outputs": [
    {
     "data": {
      "text/html": [
       "<div>\n",
       "<style scoped>\n",
       "    .dataframe tbody tr th:only-of-type {\n",
       "        vertical-align: middle;\n",
       "    }\n",
       "\n",
       "    .dataframe tbody tr th {\n",
       "        vertical-align: top;\n",
       "    }\n",
       "\n",
       "    .dataframe thead th {\n",
       "        text-align: right;\n",
       "    }\n",
       "</style>\n",
       "<table border=\"1\" class=\"dataframe\">\n",
       "  <thead>\n",
       "    <tr style=\"text-align: right;\">\n",
       "      <th></th>\n",
       "      <th>GU_CD</th>\n",
       "      <th>DONG_CD</th>\n",
       "      <th>MCT_CAT_CD</th>\n",
       "      <th>AGE_CD</th>\n",
       "      <th>USE_CNT</th>\n",
       "      <th>USE_AMT</th>\n",
       "      <th>YEAR</th>\n",
       "      <th>MONTH</th>\n",
       "    </tr>\n",
       "  </thead>\n",
       "  <tbody>\n",
       "    <tr>\n",
       "      <th>count</th>\n",
       "      <td>2.537753e+06</td>\n",
       "      <td>2.537753e+06</td>\n",
       "      <td>2.537753e+06</td>\n",
       "      <td>2.537753e+06</td>\n",
       "      <td>2.537753e+06</td>\n",
       "      <td>2.537753e+06</td>\n",
       "      <td>2.537753e+06</td>\n",
       "      <td>2.537753e+06</td>\n",
       "    </tr>\n",
       "    <tr>\n",
       "      <th>mean</th>\n",
       "      <td>2.340369e+02</td>\n",
       "      <td>6.103738e+02</td>\n",
       "      <td>5.529796e+01</td>\n",
       "      <td>4.226350e+01</td>\n",
       "      <td>1.088914e+02</td>\n",
       "      <td>2.586349e+03</td>\n",
       "      <td>2.019484e+03</td>\n",
       "      <td>3.551708e+00</td>\n",
       "    </tr>\n",
       "    <tr>\n",
       "      <th>std</th>\n",
       "      <td>9.356696e+01</td>\n",
       "      <td>5.176562e+01</td>\n",
       "      <td>2.277777e+01</td>\n",
       "      <td>1.383087e+01</td>\n",
       "      <td>5.574200e+02</td>\n",
       "      <td>9.715739e+03</td>\n",
       "      <td>4.997296e-01</td>\n",
       "      <td>1.117014e+00</td>\n",
       "    </tr>\n",
       "    <tr>\n",
       "      <th>min</th>\n",
       "      <td>1.100000e+02</td>\n",
       "      <td>5.100000e+02</td>\n",
       "      <td>1.000000e+01</td>\n",
       "      <td>2.000000e+01</td>\n",
       "      <td>4.000000e+00</td>\n",
       "      <td>2.000000e+00</td>\n",
       "      <td>2.019000e+03</td>\n",
       "      <td>2.000000e+00</td>\n",
       "    </tr>\n",
       "    <tr>\n",
       "      <th>25%</th>\n",
       "      <td>1.400000e+02</td>\n",
       "      <td>5.700000e+02</td>\n",
       "      <td>4.000000e+01</td>\n",
       "      <td>3.000000e+01</td>\n",
       "      <td>9.000000e+00</td>\n",
       "      <td>1.550000e+02</td>\n",
       "      <td>2.019000e+03</td>\n",
       "      <td>3.000000e+00</td>\n",
       "    </tr>\n",
       "    <tr>\n",
       "      <th>50%</th>\n",
       "      <td>2.600000e+02</td>\n",
       "      <td>6.110000e+02</td>\n",
       "      <td>6.200000e+01</td>\n",
       "      <td>4.000000e+01</td>\n",
       "      <td>2.200000e+01</td>\n",
       "      <td>5.280000e+02</td>\n",
       "      <td>2.019000e+03</td>\n",
       "      <td>4.000000e+00</td>\n",
       "    </tr>\n",
       "    <tr>\n",
       "      <th>75%</th>\n",
       "      <td>3.500000e+02</td>\n",
       "      <td>6.510000e+02</td>\n",
       "      <td>8.000000e+01</td>\n",
       "      <td>5.500000e+01</td>\n",
       "      <td>7.300000e+01</td>\n",
       "      <td>1.761000e+03</td>\n",
       "      <td>2.020000e+03</td>\n",
       "      <td>5.000000e+00</td>\n",
       "    </tr>\n",
       "    <tr>\n",
       "      <th>max</th>\n",
       "      <td>3.500000e+02</td>\n",
       "      <td>7.200000e+02</td>\n",
       "      <td>9.200000e+01</td>\n",
       "      <td>6.500000e+01</td>\n",
       "      <td>2.880000e+04</td>\n",
       "      <td>1.145021e+06</td>\n",
       "      <td>2.020000e+03</td>\n",
       "      <td>5.000000e+00</td>\n",
       "    </tr>\n",
       "  </tbody>\n",
       "</table>\n",
       "</div>"
      ],
      "text/plain": [
       "              GU_CD       DONG_CD    MCT_CAT_CD        AGE_CD       USE_CNT  \\\n",
       "count  2.537753e+06  2.537753e+06  2.537753e+06  2.537753e+06  2.537753e+06   \n",
       "mean   2.340369e+02  6.103738e+02  5.529796e+01  4.226350e+01  1.088914e+02   \n",
       "std    9.356696e+01  5.176562e+01  2.277777e+01  1.383087e+01  5.574200e+02   \n",
       "min    1.100000e+02  5.100000e+02  1.000000e+01  2.000000e+01  4.000000e+00   \n",
       "25%    1.400000e+02  5.700000e+02  4.000000e+01  3.000000e+01  9.000000e+00   \n",
       "50%    2.600000e+02  6.110000e+02  6.200000e+01  4.000000e+01  2.200000e+01   \n",
       "75%    3.500000e+02  6.510000e+02  8.000000e+01  5.500000e+01  7.300000e+01   \n",
       "max    3.500000e+02  7.200000e+02  9.200000e+01  6.500000e+01  2.880000e+04   \n",
       "\n",
       "            USE_AMT          YEAR         MONTH  \n",
       "count  2.537753e+06  2.537753e+06  2.537753e+06  \n",
       "mean   2.586349e+03  2.019484e+03  3.551708e+00  \n",
       "std    9.715739e+03  4.997296e-01  1.117014e+00  \n",
       "min    2.000000e+00  2.019000e+03  2.000000e+00  \n",
       "25%    1.550000e+02  2.019000e+03  3.000000e+00  \n",
       "50%    5.280000e+02  2.019000e+03  4.000000e+00  \n",
       "75%    1.761000e+03  2.020000e+03  5.000000e+00  \n",
       "max    1.145021e+06  2.020000e+03  5.000000e+00  "
      ]
     },
     "execution_count": 22,
     "metadata": {},
     "output_type": "execute_result"
    }
   ],
   "source": [
    "resident.describe()"
   ]
  },
  {
   "cell_type": "code",
   "execution_count": null,
   "metadata": {},
   "outputs": [],
   "source": []
  }
 ],
 "metadata": {
  "kernelspec": {
   "display_name": "Python 3",
   "language": "python",
   "name": "python3"
  },
  "language_info": {
   "codemirror_mode": {
    "name": "ipython",
    "version": 3
   },
   "file_extension": ".py",
   "mimetype": "text/x-python",
   "name": "python",
   "nbconvert_exporter": "python",
   "pygments_lexer": "ipython3",
   "version": "3.6.8"
  }
 },
 "nbformat": 4,
 "nbformat_minor": 2
}
